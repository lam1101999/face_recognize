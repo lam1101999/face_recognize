{
 "cells": [
  {
   "cell_type": "code",
   "execution_count": 2,
   "metadata": {},
   "outputs": [
    {
     "name": "stderr",
     "output_type": "stream",
     "text": [
      " 31%|███▏      | 313/1000 [03:00<06:31,  1.75it/s]"
     ]
    }
   ],
   "source": [
    "import matplotlib.pyplot as plt\n",
    "import numpy as np\n",
    "import cv2\n",
    "import os\n",
    "import pickle\n",
    "from sklearn.datasets import fetch_lfw_pairs\n",
    "from train_tensorflow.FaceNet import call_instance_FaceNet_with_last_ArcFace, convert_arcface_model_to_embedding,\\\n",
    "                                        convert_arcface_model_to_embeddingv2,call_instance_FaceNet_with_last_isDense,\\\n",
    "                                        convert_train_model_to_embedding\n",
    "from scipy.spatial.distance import cosine,euclidean\n",
    "from sklearn.metrics import precision_score, recall_score, f1_score, accuracy_score\n",
    "from tqdm import tqdm\n",
    "from facenet_pytorch import MTCNN\n",
    "from train_pytorch.detect_face import FaceDetector\n",
    "from product.MyModel import MyModel\n",
    "\n",
    "\n",
    "def main():\n",
    "    # setup\n",
    "    my_model = MyModel(\"ArcFace\")\n",
    "    lfw = fetch_lfw_pairs(subset='test', color=True, resize=1.0, slice_=(slice(0, 250), slice(0, 250)))\n",
    "    pairs = lfw.pairs\n",
    "    labels = lfw.target\n",
    "    face_detector = FaceDetector()\n",
    "    \n",
    "    #Loop different threshold\n",
    "    thresholds = np.arange(0,2.01,0.01)\n",
    "    predictions = [[] for i in range(len(thresholds))]\n",
    "    for i in tqdm(range(0, pairs.shape[0])):\n",
    "        pair = pairs[i]\n",
    "        img1 = face_detector.detect_one_face(pair[0], optimize_margin = True)\n",
    "        img2 = face_detector.detect_one_face(pair[1], optimize_margin = True)\n",
    "        prediction = my_model.verify(img1, img2, thresholds, distance_type = \"euclidean\") #this should return 1 for same person, 0 for different persons.\n",
    "        for j in range(len(prediction)):\n",
    "            predictions[j].append(prediction[j])\n",
    "    scores = []\n",
    "    for prediction in predictions:\n",
    "        score = accuracy_score(labels, prediction)*100\n",
    "        scores.append(score)\n",
    "    for j in range(len(scores)):\n",
    "        print(f\"threshold {thresholds[j]} accuracy_score {scores[j]}\")\n",
    "\n",
    "\n",
    "main()"
   ]
  }
 ],
 "metadata": {
  "kernelspec": {
   "display_name": "Python 3.8.13 ('python38')",
   "language": "python",
   "name": "python3"
  },
  "language_info": {
   "codemirror_mode": {
    "name": "ipython",
    "version": 3
   },
   "file_extension": ".py",
   "mimetype": "text/x-python",
   "name": "python",
   "nbconvert_exporter": "python",
   "pygments_lexer": "ipython3",
   "version": "3.8.13"
  },
  "orig_nbformat": 4,
  "vscode": {
   "interpreter": {
    "hash": "725bcb009e1db82e62e6d35a4d1f684f39d1b4e52d6204abc611d06a7adc7e09"
   }
  }
 },
 "nbformat": 4,
 "nbformat_minor": 2
}

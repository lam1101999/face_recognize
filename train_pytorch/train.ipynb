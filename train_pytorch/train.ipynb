{
 "cells": [
  {
   "cell_type": "code",
   "execution_count": 1,
   "metadata": {},
   "outputs": [
    {
     "name": "stderr",
     "output_type": "stream",
     "text": [
      "c:\\Users\\nguye\\anaconda3\\envs\\python39\\lib\\site-packages\\tqdm\\auto.py:22: TqdmWarning: IProgress not found. Please update jupyter and ipywidgets. See https://ipywidgets.readthedocs.io/en/stable/user_install.html\n",
      "  from .autonotebook import tqdm as notebook_tqdm\n"
     ]
    }
   ],
   "source": [
    "import os\n",
    "import torch\n",
    "import pickle\n",
    "import gc\n",
    "from torch.utils.data import DataLoader\n",
    "import torchvision\n",
    "from train_pytorch import config\n",
    "from train_pytorch.data_loader_image import CustomImageDataset\n",
    "from train_pytorch.inception_resnet_v1 import InceptionResnetV1 as InceptionResnetV1PyTorch\n",
    "from tool.FormatFunction import FormatFunction\n",
    "from tool.FileFunction import FileFunction\n",
    "from tool.GlobalValue import GlobalValue"
   ]
  },
  {
   "cell_type": "code",
   "execution_count": 2,
   "metadata": {},
   "outputs": [],
   "source": [
    "READ_RAW_DATA_THEN_SAVE = False\n",
    "MODEL_NAME = \"110-ASIAN\"\n",
    "path_save_model = os.path.join(os.getcwd(), \"save_model\", MODEL_NAME)\n",
    "global_value = GlobalValue(image_size=[110,110], batch_size = 96, shuffle_size = 1000, ratio_train = 0.9, ratio_test = 0.1, ratio_valid = 0.0, epochs = 40, small_epochs = 50,\n",
    "                           image_each_class = 30)\n",
    "format_function = FormatFunction(global_value)\n",
    "file_function = FileFunction()\n"
   ]
  },
  {
   "cell_type": "code",
   "execution_count": 3,
   "metadata": {},
   "outputs": [],
   "source": [
    "#Read label dictionary(name of people not the path of image)\n",
    "if READ_RAW_DATA_THEN_SAVE: \n",
    "  label_dict = dict()\n",
    "  label_dict.update(format_function.get_label_dict(os.path.join(os.path.dirname(os.getcwd()),\"dataset\",\"CASIA_align\")))\n",
    "  label_dict.update(format_function.get_label_dict(os.path.join(os.path.dirname(os.getcwd()),\"dataset\",\"AFDB\")))\n",
    "  path = os.path.join(os.path.dirname(os.getcwd()),\"cache\",\"data\",\"label_dict.pkl\")\n",
    "  with open(path, 'wb') as file:\n",
    "    pickle.dump(label_dict, file)\n",
    "path = os.path.join(os.path.dirname(os.getcwd()),\"cache\",\"data\",\"label_dict.pkl\")\n",
    "with open(path, 'rb') as f:\n",
    "  label_dict = pickle.load(f)\n",
    "  \n",
    "\n",
    "#Save data path to file to read faster\n",
    "if READ_RAW_DATA_THEN_SAVE:\n",
    "  path_image_no_mask = list()\n",
    "  path_image_no_mask.extend(file_function.get_data_path_by_dictionary(os.path.join(os.path.dirname(os.getcwd()),\"dataset\",\"CASIA_align\")))\n",
    "  path_image_no_mask.extend(file_function.get_data_path_by_dictionary(os.path.join(os.path.dirname(os.getcwd()),\"dataset\", \"AFDB\")))\n",
    "  saved_path = os.path.join(os.path.dirname(os.getcwd()),\"cache\",\"data\",\"path_image_no_mask.pkl\")\n",
    "  with open(saved_path, 'wb') as file:\n",
    "      pickle.dump(path_image_no_mask, file)\n",
    "\n",
    "  path_image_mask = list()\n",
    "  # path_image_mask.extend(file_function.get_data_path_by_dictionary(os.path.join(os.path.dirname(os.getcwd()),\"dataset\",\"CASIA_mask\")))\n",
    "  path_image_mask.extend(file_function.get_data_path_by_dictionary(os.path.join(os.path.dirname(os.getcwd()),\"dataset\", \"AFDB_mask\")))\n",
    "  saved_path = os.path.join(os.path.dirname(os.getcwd()),\"cache\",\"data\",\"path_image_mask.pkl\")\n",
    "  with open(saved_path, 'wb') as file:\n",
    "      pickle.dump(path_image_mask, file)\n"
   ]
  },
  {
   "cell_type": "code",
   "execution_count": 4,
   "metadata": {},
   "outputs": [
    {
     "ename": "RuntimeError",
     "evalue": "Input type (torch.cuda.FloatTensor) and weight type (torch.cuda.HalfTensor) should be the same",
     "output_type": "error",
     "traceback": [
      "\u001b[1;31m---------------------------------------------------------------------------\u001b[0m",
      "\u001b[1;31mRuntimeError\u001b[0m                              Traceback (most recent call last)",
      "Cell \u001b[1;32mIn [4], line 53\u001b[0m\n\u001b[0;32m     49\u001b[0m inputs, labels \u001b[39m=\u001b[39m inputs\u001b[39m.\u001b[39mto(device), labels\u001b[39m.\u001b[39mto(device)\n\u001b[0;32m     51\u001b[0m optimizer\u001b[39m.\u001b[39mzero_grad()\n\u001b[1;32m---> 53\u001b[0m outputs \u001b[39m=\u001b[39m model(inputs)\n\u001b[0;32m     54\u001b[0m loss \u001b[39m=\u001b[39m loss_function(outputs,labels)\n\u001b[0;32m     55\u001b[0m loss\u001b[39m.\u001b[39mbackward()\n",
      "File \u001b[1;32mc:\\Users\\nguye\\anaconda3\\envs\\python39\\lib\\site-packages\\torch\\nn\\modules\\module.py:1130\u001b[0m, in \u001b[0;36mModule._call_impl\u001b[1;34m(self, *input, **kwargs)\u001b[0m\n\u001b[0;32m   1126\u001b[0m \u001b[39m# If we don't have any hooks, we want to skip the rest of the logic in\u001b[39;00m\n\u001b[0;32m   1127\u001b[0m \u001b[39m# this function, and just call forward.\u001b[39;00m\n\u001b[0;32m   1128\u001b[0m \u001b[39mif\u001b[39;00m \u001b[39mnot\u001b[39;00m (\u001b[39mself\u001b[39m\u001b[39m.\u001b[39m_backward_hooks \u001b[39mor\u001b[39;00m \u001b[39mself\u001b[39m\u001b[39m.\u001b[39m_forward_hooks \u001b[39mor\u001b[39;00m \u001b[39mself\u001b[39m\u001b[39m.\u001b[39m_forward_pre_hooks \u001b[39mor\u001b[39;00m _global_backward_hooks\n\u001b[0;32m   1129\u001b[0m         \u001b[39mor\u001b[39;00m _global_forward_hooks \u001b[39mor\u001b[39;00m _global_forward_pre_hooks):\n\u001b[1;32m-> 1130\u001b[0m     \u001b[39mreturn\u001b[39;00m forward_call(\u001b[39m*\u001b[39m\u001b[39minput\u001b[39m, \u001b[39m*\u001b[39m\u001b[39m*\u001b[39mkwargs)\n\u001b[0;32m   1131\u001b[0m \u001b[39m# Do not call functions when jit is used\u001b[39;00m\n\u001b[0;32m   1132\u001b[0m full_backward_hooks, non_full_backward_hooks \u001b[39m=\u001b[39m [], []\n",
      "File \u001b[1;32mc:\\Users\\nguye\\anaconda3\\envs\\python39\\lib\\site-packages\\facemaskrecognize-0.0.0-py3.9.egg\\train_pytorch\\inception_resnet_v1.py:261\u001b[0m, in \u001b[0;36mInceptionResnetV1.forward\u001b[1;34m(self, x)\u001b[0m\n\u001b[0;32m    254\u001b[0m \u001b[39mdef\u001b[39;00m \u001b[39mforward\u001b[39m(\u001b[39mself\u001b[39m, x):\n\u001b[0;32m    255\u001b[0m     \u001b[39m\"\"\"Calculate embeddings or logits given a batch of input image tensors.\u001b[39;00m\n\u001b[0;32m    256\u001b[0m \u001b[39m    Arguments:\u001b[39;00m\n\u001b[0;32m    257\u001b[0m \u001b[39m        x {torch.tensor} -- Batch of image tensors representing faces.\u001b[39;00m\n\u001b[0;32m    258\u001b[0m \u001b[39m    Returns:\u001b[39;00m\n\u001b[0;32m    259\u001b[0m \u001b[39m        torch.tensor -- Batch of embedding vectors or multinomial logits.\u001b[39;00m\n\u001b[0;32m    260\u001b[0m \u001b[39m    \"\"\"\u001b[39;00m\n\u001b[1;32m--> 261\u001b[0m     x \u001b[39m=\u001b[39m \u001b[39mself\u001b[39;49m\u001b[39m.\u001b[39;49mconv2d_1a(x)\n\u001b[0;32m    262\u001b[0m     x \u001b[39m=\u001b[39m \u001b[39mself\u001b[39m\u001b[39m.\u001b[39mconv2d_2a(x)\n\u001b[0;32m    263\u001b[0m     x \u001b[39m=\u001b[39m \u001b[39mself\u001b[39m\u001b[39m.\u001b[39mconv2d_2b(x)\n",
      "File \u001b[1;32mc:\\Users\\nguye\\anaconda3\\envs\\python39\\lib\\site-packages\\torch\\nn\\modules\\module.py:1130\u001b[0m, in \u001b[0;36mModule._call_impl\u001b[1;34m(self, *input, **kwargs)\u001b[0m\n\u001b[0;32m   1126\u001b[0m \u001b[39m# If we don't have any hooks, we want to skip the rest of the logic in\u001b[39;00m\n\u001b[0;32m   1127\u001b[0m \u001b[39m# this function, and just call forward.\u001b[39;00m\n\u001b[0;32m   1128\u001b[0m \u001b[39mif\u001b[39;00m \u001b[39mnot\u001b[39;00m (\u001b[39mself\u001b[39m\u001b[39m.\u001b[39m_backward_hooks \u001b[39mor\u001b[39;00m \u001b[39mself\u001b[39m\u001b[39m.\u001b[39m_forward_hooks \u001b[39mor\u001b[39;00m \u001b[39mself\u001b[39m\u001b[39m.\u001b[39m_forward_pre_hooks \u001b[39mor\u001b[39;00m _global_backward_hooks\n\u001b[0;32m   1129\u001b[0m         \u001b[39mor\u001b[39;00m _global_forward_hooks \u001b[39mor\u001b[39;00m _global_forward_pre_hooks):\n\u001b[1;32m-> 1130\u001b[0m     \u001b[39mreturn\u001b[39;00m forward_call(\u001b[39m*\u001b[39m\u001b[39minput\u001b[39m, \u001b[39m*\u001b[39m\u001b[39m*\u001b[39mkwargs)\n\u001b[0;32m   1131\u001b[0m \u001b[39m# Do not call functions when jit is used\u001b[39;00m\n\u001b[0;32m   1132\u001b[0m full_backward_hooks, non_full_backward_hooks \u001b[39m=\u001b[39m [], []\n",
      "File \u001b[1;32mc:\\Users\\nguye\\anaconda3\\envs\\python39\\lib\\site-packages\\facemaskrecognize-0.0.0-py3.9.egg\\train_pytorch\\inception_resnet_v1.py:25\u001b[0m, in \u001b[0;36mBasicConv2d.forward\u001b[1;34m(self, x)\u001b[0m\n\u001b[0;32m     24\u001b[0m \u001b[39mdef\u001b[39;00m \u001b[39mforward\u001b[39m(\u001b[39mself\u001b[39m, x):\n\u001b[1;32m---> 25\u001b[0m     x \u001b[39m=\u001b[39m \u001b[39mself\u001b[39;49m\u001b[39m.\u001b[39;49mconv(x)\n\u001b[0;32m     26\u001b[0m     x \u001b[39m=\u001b[39m \u001b[39mself\u001b[39m\u001b[39m.\u001b[39mbn(x)\n\u001b[0;32m     27\u001b[0m     x \u001b[39m=\u001b[39m \u001b[39mself\u001b[39m\u001b[39m.\u001b[39mprelu(x)\n",
      "File \u001b[1;32mc:\\Users\\nguye\\anaconda3\\envs\\python39\\lib\\site-packages\\torch\\nn\\modules\\module.py:1130\u001b[0m, in \u001b[0;36mModule._call_impl\u001b[1;34m(self, *input, **kwargs)\u001b[0m\n\u001b[0;32m   1126\u001b[0m \u001b[39m# If we don't have any hooks, we want to skip the rest of the logic in\u001b[39;00m\n\u001b[0;32m   1127\u001b[0m \u001b[39m# this function, and just call forward.\u001b[39;00m\n\u001b[0;32m   1128\u001b[0m \u001b[39mif\u001b[39;00m \u001b[39mnot\u001b[39;00m (\u001b[39mself\u001b[39m\u001b[39m.\u001b[39m_backward_hooks \u001b[39mor\u001b[39;00m \u001b[39mself\u001b[39m\u001b[39m.\u001b[39m_forward_hooks \u001b[39mor\u001b[39;00m \u001b[39mself\u001b[39m\u001b[39m.\u001b[39m_forward_pre_hooks \u001b[39mor\u001b[39;00m _global_backward_hooks\n\u001b[0;32m   1129\u001b[0m         \u001b[39mor\u001b[39;00m _global_forward_hooks \u001b[39mor\u001b[39;00m _global_forward_pre_hooks):\n\u001b[1;32m-> 1130\u001b[0m     \u001b[39mreturn\u001b[39;00m forward_call(\u001b[39m*\u001b[39m\u001b[39minput\u001b[39m, \u001b[39m*\u001b[39m\u001b[39m*\u001b[39mkwargs)\n\u001b[0;32m   1131\u001b[0m \u001b[39m# Do not call functions when jit is used\u001b[39;00m\n\u001b[0;32m   1132\u001b[0m full_backward_hooks, non_full_backward_hooks \u001b[39m=\u001b[39m [], []\n",
      "File \u001b[1;32mc:\\Users\\nguye\\anaconda3\\envs\\python39\\lib\\site-packages\\torch\\nn\\modules\\conv.py:457\u001b[0m, in \u001b[0;36mConv2d.forward\u001b[1;34m(self, input)\u001b[0m\n\u001b[0;32m    456\u001b[0m \u001b[39mdef\u001b[39;00m \u001b[39mforward\u001b[39m(\u001b[39mself\u001b[39m, \u001b[39minput\u001b[39m: Tensor) \u001b[39m-\u001b[39m\u001b[39m>\u001b[39m Tensor:\n\u001b[1;32m--> 457\u001b[0m     \u001b[39mreturn\u001b[39;00m \u001b[39mself\u001b[39;49m\u001b[39m.\u001b[39;49m_conv_forward(\u001b[39minput\u001b[39;49m, \u001b[39mself\u001b[39;49m\u001b[39m.\u001b[39;49mweight, \u001b[39mself\u001b[39;49m\u001b[39m.\u001b[39;49mbias)\n",
      "File \u001b[1;32mc:\\Users\\nguye\\anaconda3\\envs\\python39\\lib\\site-packages\\torch\\nn\\modules\\conv.py:453\u001b[0m, in \u001b[0;36mConv2d._conv_forward\u001b[1;34m(self, input, weight, bias)\u001b[0m\n\u001b[0;32m    449\u001b[0m \u001b[39mif\u001b[39;00m \u001b[39mself\u001b[39m\u001b[39m.\u001b[39mpadding_mode \u001b[39m!=\u001b[39m \u001b[39m'\u001b[39m\u001b[39mzeros\u001b[39m\u001b[39m'\u001b[39m:\n\u001b[0;32m    450\u001b[0m     \u001b[39mreturn\u001b[39;00m F\u001b[39m.\u001b[39mconv2d(F\u001b[39m.\u001b[39mpad(\u001b[39minput\u001b[39m, \u001b[39mself\u001b[39m\u001b[39m.\u001b[39m_reversed_padding_repeated_twice, mode\u001b[39m=\u001b[39m\u001b[39mself\u001b[39m\u001b[39m.\u001b[39mpadding_mode),\n\u001b[0;32m    451\u001b[0m                     weight, bias, \u001b[39mself\u001b[39m\u001b[39m.\u001b[39mstride,\n\u001b[0;32m    452\u001b[0m                     _pair(\u001b[39m0\u001b[39m), \u001b[39mself\u001b[39m\u001b[39m.\u001b[39mdilation, \u001b[39mself\u001b[39m\u001b[39m.\u001b[39mgroups)\n\u001b[1;32m--> 453\u001b[0m \u001b[39mreturn\u001b[39;00m F\u001b[39m.\u001b[39;49mconv2d(\u001b[39minput\u001b[39;49m, weight, bias, \u001b[39mself\u001b[39;49m\u001b[39m.\u001b[39;49mstride,\n\u001b[0;32m    454\u001b[0m                 \u001b[39mself\u001b[39;49m\u001b[39m.\u001b[39;49mpadding, \u001b[39mself\u001b[39;49m\u001b[39m.\u001b[39;49mdilation, \u001b[39mself\u001b[39;49m\u001b[39m.\u001b[39;49mgroups)\n",
      "\u001b[1;31mRuntimeError\u001b[0m: Input type (torch.cuda.FloatTensor) and weight type (torch.cuda.HalfTensor) should be the same"
     ]
    }
   ],
   "source": [
    "gc.collect()\n",
    "torch.cuda.empty_cache()\n",
    "device = torch.device('cuda:0' if torch.cuda.is_available() else 'cpu')\n",
    "torch.cuda.set_per_process_memory_fraction(0.7, device)\n",
    "# Init model\n",
    "model = InceptionResnetV1PyTorch(classify = True, num_classes = len(label_dict), dropout_prob = 0.2)\n",
    "model.half()\n",
    "model.to(device)\n",
    "loss_function = torch.nn.CrossEntropyLoss()\n",
    "optimizer = torch.optim.Adam(model.parameters(),lr = 1e-3)\n",
    "\n",
    "path_to_latest_epoch = None\n",
    "actual_epochs = 1\n",
    "for i in range(1000):\n",
    "  path_to_check_if_exist = os.path.join(os.path.dirname(os.getcwd()), \"save_model\", MODEL_NAME, \"epoch{}.pt\".format(actual_epochs))\n",
    "  if not os.path.exists(path_to_check_if_exist):\n",
    "    break\n",
    "  actual_epochs += 1\n",
    "if path_to_latest_epoch != None:\n",
    "    model.load_weight(path_to_latest_epoch)\n",
    "    \n",
    "\n",
    "# Prepare data\n",
    "path = os.path.join(os.path.dirname(os.getcwd()),\"cache\",\"data\",\"path_image_no_mask.pkl\")\n",
    "with open(path, 'rb') as f:\n",
    "  path_image_no_mask = pickle.load(f)\n",
    "  path_image_no_mask = file_function.get_data_path_with_limit(path_image_no_mask,config.IMAGE_EACH_CLASS)\n",
    "path = os.path.join(os.path.dirname(os.getcwd()),\"cache\",\"data\",\"path_image_mask.pkl\")\n",
    "with open(path, 'rb') as f:\n",
    "  path_image_mask = pickle.load(f)\n",
    "  path_image_mask = file_function.get_data_path_with_limit(path_image_mask,config.IMAGE_EACH_CLASS)\n",
    "path_image_no_mask.extend(path_image_mask)\n",
    "\n",
    "transform = torchvision.transforms.Compose(\n",
    "            [torchvision.transforms.Resize(config.SIZE),\n",
    "             torchvision.transforms.ConvertImageDtype(torch.float)]\n",
    ")\n",
    "\n",
    "train_dataset = CustomImageDataset(path_image_no_mask, label_dict, transform =transform)\n",
    "train_loader = DataLoader(train_dataset, batch_size = config.BATCH_SIZE, shuffle = True)\n",
    "\n",
    "# Train loop\n",
    "for epoch in range(config.EPOCH):\n",
    "  running_loss = 0\n",
    "  for data in train_loader:\n",
    "    inputs,labels = data\n",
    "    inputs.half()\n",
    "    labels.half()\n",
    "    inputs, labels = inputs.to(device), labels.to(device)\n",
    "    \n",
    "    optimizer.zero_grad()\n",
    "    \n",
    "    outputs = model(inputs)\n",
    "    loss = loss_function(outputs,labels)\n",
    "    loss.backward()\n",
    "    optimizer.step()\n",
    "\n",
    "    #print statistic\n",
    "    running_loss += loss.item()\n",
    "    print(running_loss)\n",
    "  model.save(os.path.join(os.path.dirname(os.getcwd()), \"save_model\", MODEL_NAME, \"epoch{}.pt\".format(actual_epochs)))\n",
    "  actual_epochs += 1\n"
   ]
  }
 ],
 "metadata": {
  "kernelspec": {
   "display_name": "Python 3.9.0 ('python39')",
   "language": "python",
   "name": "python3"
  },
  "language_info": {
   "codemirror_mode": {
    "name": "ipython",
    "version": 3
   },
   "file_extension": ".py",
   "mimetype": "text/x-python",
   "name": "python",
   "nbconvert_exporter": "python",
   "pygments_lexer": "ipython3",
   "version": "3.9.0"
  },
  "orig_nbformat": 4,
  "vscode": {
   "interpreter": {
    "hash": "ab10af38257575a9a27fe645fce4d8aad4d1739d3daba4d90f2fe56ea8629840"
   }
  }
 },
 "nbformat": 4,
 "nbformat_minor": 2
}
